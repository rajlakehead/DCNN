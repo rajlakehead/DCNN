{
  "nbformat": 4,
  "nbformat_minor": 0,
  "metadata": {
    "colab": {
      "provenance": []
    },
    "kernelspec": {
      "name": "python3",
      "display_name": "Python 3"
    },
    "language_info": {
      "name": "python"
    },
    "accelerator": "GPU",
    "gpuClass": "standard"
  },
  "cells": [
    {
      "cell_type": "code",
      "source": [
        "from tensorflow.keras.datasets import cifar100\n",
        "from tensorflow.keras.models import Sequential\n",
        "from tensorflow.keras.layers import Dense, Flatten, Conv2D, MaxPooling2D, Activation, Dropout\n",
        "from tensorflow.keras.losses import categorical_crossentropy\n",
        "from tensorflow.keras.optimizers import Adam\n",
        "from tensorflow.keras.utils import to_categorical\n",
        "from tensorflow.keras.callbacks import Callback, EarlyStopping\n",
        "from keras.preprocessing.image import ImageDataGenerator\n",
        "import matplotlib.pyplot as plt\n",
        "import numpy as np\n",
        "from keras.applications import VGG16\n",
        "import tensorflow as tf"
      ],
      "metadata": {
        "id": "SIIcUv2L4ej1"
      },
      "execution_count": 2,
      "outputs": []
    },
    {
      "cell_type": "markdown",
      "source": [
        "## **Data Preprocessing**"
      ],
      "metadata": {
        "id": "ES2-Qh3aJLuv"
      }
    },
    {
      "cell_type": "code",
      "source": [
        "(X_train, y_train), (X_test, y_test) = cifar100.load_data()\n",
        "\n",
        "# Parse numbers as floats\n",
        "X_train = X_train.astype('float32')\n",
        "X_test = X_test.astype('float32')\n",
        "\n",
        "# Normalize data\n",
        "X_train = (X_train) / 255.\n",
        "X_test = (X_test) / 255.\n",
        "\n",
        "# number of classes\n",
        "nb_classes = len(np.unique(y_train))\n",
        "\n",
        "img_width, img_height, img_num_channels = 32, 32, 3\n",
        "input_shape = (img_width, img_height, img_num_channels)\n",
        "\n",
        "y_train = to_categorical(y_train, nb_classes)\n",
        "y_test = to_categorical(y_test, nb_classes)"
      ],
      "metadata": {
        "id": "0lBNSnnb4h51"
      },
      "execution_count": 3,
      "outputs": []
    },
    {
      "cell_type": "markdown",
      "source": [
        "## **Different learning rates**"
      ],
      "metadata": {
        "id": "XE9uXDreqFIW"
      }
    },
    {
      "cell_type": "code",
      "source": [
        "lr_schedule = [\n",
        "    0.001,  \n",
        "    0.0005, \n",
        "    0.0001, \n",
        "    0.0001, \n",
        "    0.00005\n",
        "]\n",
        "\n",
        "optimizer = tf.keras.optimizers.Adam(\n",
        "    learning_rate=tf.keras.optimizers.schedules.PiecewiseConstantDecay(\n",
        "        boundaries=[10000, 20000, 30000], \n",
        "        values=lr_schedule\n",
        "    )\n",
        ")"
      ],
      "metadata": {
        "id": "h_p5CzmQp67F"
      },
      "execution_count": null,
      "outputs": []
    },
    {
      "cell_type": "markdown",
      "source": [
        "## **Define model with at least 5 layers**"
      ],
      "metadata": {
        "id": "Lv2LcSrlJiD9"
      }
    },
    {
      "cell_type": "code",
      "source": [
        "model = Sequential()\n",
        "model.add(Conv2D(128, (3, 3), padding='same', input_shape=X_train.shape[1:]))\n",
        "model.add(Activation('elu'))\n",
        "\n",
        "model.add(Conv2D(128, (3, 3)))\n",
        "model.add(Activation('elu'))\n",
        "model.add(MaxPooling2D(pool_size=(2, 2)))\n",
        "\n",
        "model.add(Conv2D(256, (3, 3), padding='same'))\n",
        "model.add(Activation('elu'))\n",
        "\n",
        "model.add(Conv2D(256, (3, 3)))\n",
        "model.add(Activation('elu'))\n",
        "model.add(MaxPooling2D(pool_size=(2, 2)))\n",
        "model.add(Dropout(0.25))\n",
        "\n",
        "model.add(Conv2D(512, (3, 3), padding='same'))\n",
        "model.add(Activation('elu'))\n",
        "model.add(Conv2D(512, (3, 3)))\n",
        "model.add(Activation('elu'))\n",
        "model.add(MaxPooling2D(pool_size=(2, 2)))\n",
        "model.add(Dropout(0.25))\n",
        "\n",
        "model.add(Flatten())\n",
        "model.add(Dense(1024))\n",
        "model.add(Activation('elu'))\n",
        "model.add(Dropout(0.5))\n",
        "model.add(Dense(nb_classes))\n",
        "model.add(Activation('softmax'))\n",
        "\n",
        "model.summary()"
      ],
      "metadata": {
        "colab": {
          "base_uri": "https://localhost:8080/"
        },
        "id": "oSErDcDG4t7b",
        "outputId": "43916839-6266-410f-8d28-1f534cd99da8"
      },
      "execution_count": 20,
      "outputs": [
        {
          "output_type": "stream",
          "name": "stdout",
          "text": [
            "Model: \"sequential_2\"\n",
            "_________________________________________________________________\n",
            " Layer (type)                Output Shape              Param #   \n",
            "=================================================================\n",
            " conv2d_6 (Conv2D)           (None, 32, 32, 128)       3584      \n",
            "                                                                 \n",
            " activation_8 (Activation)   (None, 32, 32, 128)       0         \n",
            "                                                                 \n",
            " conv2d_7 (Conv2D)           (None, 30, 30, 128)       147584    \n",
            "                                                                 \n",
            " activation_9 (Activation)   (None, 30, 30, 128)       0         \n",
            "                                                                 \n",
            " max_pooling2d_3 (MaxPooling  (None, 15, 15, 128)      0         \n",
            " 2D)                                                             \n",
            "                                                                 \n",
            " conv2d_8 (Conv2D)           (None, 15, 15, 256)       295168    \n",
            "                                                                 \n",
            " activation_10 (Activation)  (None, 15, 15, 256)       0         \n",
            "                                                                 \n",
            " conv2d_9 (Conv2D)           (None, 13, 13, 256)       590080    \n",
            "                                                                 \n",
            " activation_11 (Activation)  (None, 13, 13, 256)       0         \n",
            "                                                                 \n",
            " max_pooling2d_4 (MaxPooling  (None, 6, 6, 256)        0         \n",
            " 2D)                                                             \n",
            "                                                                 \n",
            " dropout_4 (Dropout)         (None, 6, 6, 256)         0         \n",
            "                                                                 \n",
            " conv2d_10 (Conv2D)          (None, 6, 6, 512)         1180160   \n",
            "                                                                 \n",
            " activation_12 (Activation)  (None, 6, 6, 512)         0         \n",
            "                                                                 \n",
            " conv2d_11 (Conv2D)          (None, 4, 4, 512)         2359808   \n",
            "                                                                 \n",
            " activation_13 (Activation)  (None, 4, 4, 512)         0         \n",
            "                                                                 \n",
            " max_pooling2d_5 (MaxPooling  (None, 2, 2, 512)        0         \n",
            " 2D)                                                             \n",
            "                                                                 \n",
            " dropout_5 (Dropout)         (None, 2, 2, 512)         0         \n",
            "                                                                 \n",
            " flatten_2 (Flatten)         (None, 2048)              0         \n",
            "                                                                 \n",
            " dense_4 (Dense)             (None, 1024)              2098176   \n",
            "                                                                 \n",
            " activation_14 (Activation)  (None, 1024)              0         \n",
            "                                                                 \n",
            " dropout_6 (Dropout)         (None, 1024)              0         \n",
            "                                                                 \n",
            " dense_5 (Dense)             (None, 100)               102500    \n",
            "                                                                 \n",
            " activation_15 (Activation)  (None, 100)               0         \n",
            "                                                                 \n",
            "=================================================================\n",
            "Total params: 6,777,060\n",
            "Trainable params: 6,777,060\n",
            "Non-trainable params: 0\n",
            "_________________________________________________________________\n"
          ]
        }
      ]
    },
    {
      "cell_type": "markdown",
      "source": [
        "## **Compile Model**"
      ],
      "metadata": {
        "id": "ElEUQwBpJ0SX"
      }
    },
    {
      "cell_type": "code",
      "source": [
        "model.compile(loss=categorical_crossentropy, optimizer=Adam(learning_rate = 0.0001), metrics=['accuracy'])"
      ],
      "metadata": {
        "id": "sfL85nS743F2"
      },
      "execution_count": 21,
      "outputs": []
    },
    {
      "cell_type": "markdown",
      "source": [
        "## **Data augmentation**"
      ],
      "metadata": {
        "id": "jRIlFqJSJ-cS"
      }
    },
    {
      "cell_type": "code",
      "source": [
        "data = ImageDataGenerator(\n",
        "            featurewise_center=False,  \n",
        "            samplewise_center=False,  \n",
        "            featurewise_std_normalization=False,  \n",
        "            samplewise_std_normalization=False,  \n",
        "            zca_whitening=False,  \n",
        "            rotation_range=0,  \n",
        "            width_shift_range=0.1,  \n",
        "            height_shift_range=0.1,  \n",
        "            horizontal_flip=True, \n",
        "            vertical_flip=False)  \n",
        "data.fit(X_train)\n"
      ],
      "metadata": {
        "id": "vOWKFwbk5Xft"
      },
      "execution_count": 22,
      "outputs": []
    },
    {
      "cell_type": "markdown",
      "source": [
        "## **Fit data to mode**"
      ],
      "metadata": {
        "id": "7WuT_HZBKSFN"
      }
    },
    {
      "cell_type": "code",
      "source": [
        "stop = EarlyStopping(monitor='val_loss', mode='min', verbose=1, patience=8, restore_best_weights = True)\n",
        "\n",
        "history = model.fit(data.flow(X_train, y_train, batch_size=50), \n",
        "                   steps_per_epoch=X_train.shape[0] // 50,\n",
        "                   epochs=50,\n",
        "                   validation_data=(X_test, y_test),\n",
        "                   verbose=1,\n",
        "                   callbacks=[stop])"
      ],
      "metadata": {
        "colab": {
          "base_uri": "https://localhost:8080/"
        },
        "id": "15Vx24hC6RKe",
        "outputId": "fceb7cac-4289-4528-9fb0-c7236610b5db"
      },
      "execution_count": 23,
      "outputs": [
        {
          "output_type": "stream",
          "name": "stdout",
          "text": [
            "Epoch 1/50\n",
            "1000/1000 [==============================] - 44s 42ms/step - loss: 3.9194 - accuracy: 0.1061 - val_loss: 3.3201 - val_accuracy: 0.2104\n",
            "Epoch 2/50\n",
            "1000/1000 [==============================] - 40s 40ms/step - loss: 3.3173 - accuracy: 0.2061 - val_loss: 2.8467 - val_accuracy: 0.3104\n",
            "Epoch 3/50\n",
            "1000/1000 [==============================] - 41s 41ms/step - loss: 3.0254 - accuracy: 0.2608 - val_loss: 2.6282 - val_accuracy: 0.3479\n",
            "Epoch 4/50\n",
            "1000/1000 [==============================] - 40s 40ms/step - loss: 2.8357 - accuracy: 0.2999 - val_loss: 2.5290 - val_accuracy: 0.3708\n",
            "Epoch 5/50\n",
            "1000/1000 [==============================] - 40s 40ms/step - loss: 2.7007 - accuracy: 0.3276 - val_loss: 2.4619 - val_accuracy: 0.3833\n",
            "Epoch 6/50\n",
            "1000/1000 [==============================] - 40s 40ms/step - loss: 2.5845 - accuracy: 0.3500 - val_loss: 2.2506 - val_accuracy: 0.4275\n",
            "Epoch 7/50\n",
            "1000/1000 [==============================] - 41s 41ms/step - loss: 2.4864 - accuracy: 0.3703 - val_loss: 2.1705 - val_accuracy: 0.4406\n",
            "Epoch 8/50\n",
            "1000/1000 [==============================] - 40s 40ms/step - loss: 2.4067 - accuracy: 0.3876 - val_loss: 2.0725 - val_accuracy: 0.4624\n",
            "Epoch 9/50\n",
            "1000/1000 [==============================] - 40s 40ms/step - loss: 2.3367 - accuracy: 0.3996 - val_loss: 2.0389 - val_accuracy: 0.4709\n",
            "Epoch 10/50\n",
            "1000/1000 [==============================] - 41s 41ms/step - loss: 2.2765 - accuracy: 0.4127 - val_loss: 1.9979 - val_accuracy: 0.4739\n",
            "Epoch 11/50\n",
            "1000/1000 [==============================] - 40s 40ms/step - loss: 2.2150 - accuracy: 0.4257 - val_loss: 1.9468 - val_accuracy: 0.4866\n",
            "Epoch 12/50\n",
            "1000/1000 [==============================] - 40s 40ms/step - loss: 2.1696 - accuracy: 0.4369 - val_loss: 1.8913 - val_accuracy: 0.5031\n",
            "Epoch 13/50\n",
            "1000/1000 [==============================] - 40s 40ms/step - loss: 2.1162 - accuracy: 0.4500 - val_loss: 1.8579 - val_accuracy: 0.5066\n",
            "Epoch 14/50\n",
            "1000/1000 [==============================] - 40s 40ms/step - loss: 2.0646 - accuracy: 0.4558 - val_loss: 1.8106 - val_accuracy: 0.5180\n",
            "Epoch 15/50\n",
            "1000/1000 [==============================] - 40s 40ms/step - loss: 2.0248 - accuracy: 0.4659 - val_loss: 1.8021 - val_accuracy: 0.5231\n",
            "Epoch 16/50\n",
            "1000/1000 [==============================] - 40s 40ms/step - loss: 1.9871 - accuracy: 0.4751 - val_loss: 1.7292 - val_accuracy: 0.5380\n",
            "Epoch 17/50\n",
            "1000/1000 [==============================] - 41s 41ms/step - loss: 1.9516 - accuracy: 0.4841 - val_loss: 1.7580 - val_accuracy: 0.5234\n",
            "Epoch 18/50\n",
            "1000/1000 [==============================] - 40s 40ms/step - loss: 1.9156 - accuracy: 0.4900 - val_loss: 1.6928 - val_accuracy: 0.5517\n",
            "Epoch 19/50\n",
            "1000/1000 [==============================] - 40s 40ms/step - loss: 1.8812 - accuracy: 0.4980 - val_loss: 1.7092 - val_accuracy: 0.5415\n",
            "Epoch 20/50\n",
            "1000/1000 [==============================] - 41s 41ms/step - loss: 1.8446 - accuracy: 0.5065 - val_loss: 1.6514 - val_accuracy: 0.5515\n",
            "Epoch 21/50\n",
            "1000/1000 [==============================] - 40s 40ms/step - loss: 1.8011 - accuracy: 0.5142 - val_loss: 1.6400 - val_accuracy: 0.5573\n",
            "Epoch 22/50\n",
            "1000/1000 [==============================] - 40s 40ms/step - loss: 1.7705 - accuracy: 0.5234 - val_loss: 1.6061 - val_accuracy: 0.5638\n",
            "Epoch 23/50\n",
            "1000/1000 [==============================] - 40s 40ms/step - loss: 1.7463 - accuracy: 0.5270 - val_loss: 1.6424 - val_accuracy: 0.5589\n",
            "Epoch 24/50\n",
            "1000/1000 [==============================] - 41s 41ms/step - loss: 1.7087 - accuracy: 0.5361 - val_loss: 1.5720 - val_accuracy: 0.5726\n",
            "Epoch 25/50\n",
            "1000/1000 [==============================] - 40s 40ms/step - loss: 1.6723 - accuracy: 0.5454 - val_loss: 1.5459 - val_accuracy: 0.5787\n",
            "Epoch 26/50\n",
            "1000/1000 [==============================] - 40s 40ms/step - loss: 1.6679 - accuracy: 0.5486 - val_loss: 1.5426 - val_accuracy: 0.5799\n",
            "Epoch 27/50\n",
            "1000/1000 [==============================] - 41s 41ms/step - loss: 1.6250 - accuracy: 0.5577 - val_loss: 1.5496 - val_accuracy: 0.5854\n",
            "Epoch 28/50\n",
            "1000/1000 [==============================] - 40s 40ms/step - loss: 1.6040 - accuracy: 0.5622 - val_loss: 1.5221 - val_accuracy: 0.5877\n",
            "Epoch 29/50\n",
            "1000/1000 [==============================] - 40s 40ms/step - loss: 1.5708 - accuracy: 0.5678 - val_loss: 1.5340 - val_accuracy: 0.5780\n",
            "Epoch 30/50\n",
            "1000/1000 [==============================] - 40s 40ms/step - loss: 1.5569 - accuracy: 0.5716 - val_loss: 1.4781 - val_accuracy: 0.5912\n",
            "Epoch 31/50\n",
            "1000/1000 [==============================] - 40s 40ms/step - loss: 1.5307 - accuracy: 0.5757 - val_loss: 1.5102 - val_accuracy: 0.5910\n",
            "Epoch 32/50\n",
            "1000/1000 [==============================] - 40s 40ms/step - loss: 1.5053 - accuracy: 0.5849 - val_loss: 1.4590 - val_accuracy: 0.5972\n",
            "Epoch 33/50\n",
            "1000/1000 [==============================] - 40s 40ms/step - loss: 1.4759 - accuracy: 0.5911 - val_loss: 1.5096 - val_accuracy: 0.5954\n",
            "Epoch 34/50\n",
            "1000/1000 [==============================] - 41s 41ms/step - loss: 1.4557 - accuracy: 0.5961 - val_loss: 1.5004 - val_accuracy: 0.5946\n",
            "Epoch 35/50\n",
            "1000/1000 [==============================] - 40s 40ms/step - loss: 1.4312 - accuracy: 0.6012 - val_loss: 1.4464 - val_accuracy: 0.5985\n",
            "Epoch 36/50\n",
            "1000/1000 [==============================] - 40s 40ms/step - loss: 1.4032 - accuracy: 0.6058 - val_loss: 1.4758 - val_accuracy: 0.5996\n",
            "Epoch 37/50\n",
            "1000/1000 [==============================] - 40s 40ms/step - loss: 1.3864 - accuracy: 0.6117 - val_loss: 1.4477 - val_accuracy: 0.6060\n",
            "Epoch 38/50\n",
            "1000/1000 [==============================] - 41s 41ms/step - loss: 1.3657 - accuracy: 0.6153 - val_loss: 1.4017 - val_accuracy: 0.6183\n",
            "Epoch 39/50\n",
            "1000/1000 [==============================] - 40s 40ms/step - loss: 1.3393 - accuracy: 0.6235 - val_loss: 1.4112 - val_accuracy: 0.6143\n",
            "Epoch 40/50\n",
            "1000/1000 [==============================] - 40s 40ms/step - loss: 1.3268 - accuracy: 0.6249 - val_loss: 1.4067 - val_accuracy: 0.6131\n",
            "Epoch 41/50\n",
            "1000/1000 [==============================] - 41s 41ms/step - loss: 1.3070 - accuracy: 0.6317 - val_loss: 1.4105 - val_accuracy: 0.6144\n",
            "Epoch 42/50\n",
            "1000/1000 [==============================] - 40s 40ms/step - loss: 1.2814 - accuracy: 0.6354 - val_loss: 1.3776 - val_accuracy: 0.6186\n",
            "Epoch 43/50\n",
            "1000/1000 [==============================] - 40s 40ms/step - loss: 1.2631 - accuracy: 0.6416 - val_loss: 1.3908 - val_accuracy: 0.6173\n",
            "Epoch 44/50\n",
            "1000/1000 [==============================] - 40s 40ms/step - loss: 1.2471 - accuracy: 0.6438 - val_loss: 1.3872 - val_accuracy: 0.6226\n",
            "Epoch 45/50\n",
            "1000/1000 [==============================] - 41s 41ms/step - loss: 1.2249 - accuracy: 0.6475 - val_loss: 1.3582 - val_accuracy: 0.6314\n",
            "Epoch 46/50\n",
            "1000/1000 [==============================] - 40s 40ms/step - loss: 1.2089 - accuracy: 0.6530 - val_loss: 1.4121 - val_accuracy: 0.6176\n",
            "Epoch 47/50\n",
            "1000/1000 [==============================] - 40s 40ms/step - loss: 1.1923 - accuracy: 0.6571 - val_loss: 1.3467 - val_accuracy: 0.6357\n",
            "Epoch 48/50\n",
            "1000/1000 [==============================] - 41s 41ms/step - loss: 1.1636 - accuracy: 0.6634 - val_loss: 1.3610 - val_accuracy: 0.6370\n",
            "Epoch 49/50\n",
            "1000/1000 [==============================] - 40s 40ms/step - loss: 1.1554 - accuracy: 0.6670 - val_loss: 1.3774 - val_accuracy: 0.6344\n",
            "Epoch 50/50\n",
            "1000/1000 [==============================] - 40s 40ms/step - loss: 1.1376 - accuracy: 0.6712 - val_loss: 1.3731 - val_accuracy: 0.6238\n"
          ]
        }
      ]
    },
    {
      "cell_type": "markdown",
      "source": [
        "## **Plot history**"
      ],
      "metadata": {
        "id": "jSGvOsvgLl4i"
      }
    },
    {
      "cell_type": "code",
      "source": [
        "score = model.evaluate(X_test, y_test, verbose=0)\n",
        "print(f'Test loss: {score[0]} / Test accuracy: {score[1]}')\n",
        "\n",
        "\n",
        "def plot_history(history):\n",
        "    val_loss = history.history['val_loss']\n",
        "    loss = history.history['loss']\n",
        "    acc = history.history['accuracy']\n",
        "    val_acc = history.history['val_accuracy']\n",
        "\n",
        "    epochs = range(1,len(acc)+1,1)\n",
        "\n",
        "    plt.plot(epochs,acc, 'r--', label='Training acc')\n",
        "    plt.plot(epochs,val_acc,  'b', label='Validation acc')\n",
        "    plt.title('Training and validation accuracy')\n",
        "    plt.ylabel('acc')\n",
        "    plt.xlabel('epochs')\n",
        "    plt.legend()\n",
        "\n",
        "    plt.figure()\n",
        "\n",
        "    plt.plot( epochs,loss,'r--', label='Training loss')\n",
        "    plt.plot(epochs, val_loss ,  'b', label='Validation loss')\n",
        "    plt.title('Training and validation loss')\n",
        "    plt.ylabel('loss')\n",
        "    plt.xlabel('epochs')\n",
        "    plt.legend()\n",
        "\n",
        "    plt.figure()\n",
        "\n",
        "plot_history(history)\n"
      ],
      "metadata": {
        "colab": {
          "base_uri": "https://localhost:8080/",
          "height": 608
        },
        "id": "HBpCeEoqIrIk",
        "outputId": "c04c0b23-77a0-4775-dd38-f2522757b8b1"
      },
      "execution_count": 24,
      "outputs": [
        {
          "output_type": "stream",
          "name": "stdout",
          "text": [
            "Test loss: 1.3731027841567993 / Test accuracy: 0.6237999796867371\n"
          ]
        },
        {
          "output_type": "display_data",
          "data": {
            "text/plain": [
              "<Figure size 432x288 with 1 Axes>"
            ],
            "image/png": "[encoded data removed]"
          },
          "metadata": {
            "needs_background": "light"
          }
        },
        {
          "output_type": "display_data",
          "data": {
            "text/plain": [
              "<Figure size 432x288 with 1 Axes>"
            ],
            "image/png": "[encoded data removed]"
          },
          "metadata": {
            "needs_background": "light"
          }
        },
        {
          "output_type": "display_data",
          "data": {
            "text/plain": [
              "<Figure size 432x288 with 0 Axes>"
            ]
          },
          "metadata": {}
        }
      ]
    },
    {
      "cell_type": "markdown",
      "source": [
        "## **Define VGG16**"
      ],
      "metadata": {
        "id": "jZ-g-sVgLtBA"
      }
    },
    {
      "cell_type": "code",
      "source": [
        "base_model = VGG16(include_top=False,input_shape=(32,32,3),classes=100)"
      ],
      "metadata": {
        "id": "ro07YqMTCOfQ"
      },
      "execution_count": 4,
      "outputs": []
    },
    {
      "cell_type": "code",
      "source": [
        "vggmodel = tf.keras.models.Sequential()\n",
        "vggmodel.add(base_model)\n",
        "vggmodel.add(tf.keras.layers.Flatten())\n",
        "vggmodel.add(tf.keras.layers.Dense(1024, activation='relu'))\n",
        "vggmodel.add(tf.keras.layers.Dropout(0.2))\n",
        "vggmodel.add(tf.keras.layers.Dense(100, activation='softmax'))"
      ],
      "metadata": {
        "id": "YZ_EaEQACYEp"
      },
      "execution_count": 5,
      "outputs": []
    },
    {
      "cell_type": "code",
      "source": [
        "vggmodel.compile(loss=categorical_crossentropy, metrics=['accuracy'])"
      ],
      "metadata": {
        "id": "e7_SNM7_Cqlt"
      },
      "execution_count": 6,
      "outputs": []
    },
    {
      "cell_type": "code",
      "source": [
        "stop = EarlyStopping(monitor='val_loss', mode='min', verbose=1, patience=8, restore_best_weights = True)\n",
        "\n",
        "vgghistory = vggmodel.fit(data.flow(X_train, y_train, batch_size=50), \n",
        "                   steps_per_epoch=X_train.shape[0] // 50,\n",
        "                   epochs=10,\n",
        "                   validation_data=(X_test, y_test),\n",
        "                   verbose=1,\n",
        "                   callbacks=[stop])"
      ],
      "metadata": {
        "colab": {
          "base_uri": "https://localhost:8080/"
        },
        "id": "FqJ46vLqdAYT",
        "outputId": "539227fd-3144-4891-a74b-da083ddf5396"
      },
      "execution_count": 15,
      "outputs": [
        {
          "output_type": "stream",
          "name": "stdout",
          "text": [
            "Epoch 1/10\n",
            "1000/1000 [==============================] - 44s 44ms/step - loss: 3.8406 - accuracy: 0.1172 - val_loss: 3.2573 - val_accuracy: 0.2255\n",
            "Epoch 2/10\n",
            "1000/1000 [==============================] - 41s 40ms/step - loss: 3.2678 - accuracy: 0.2150 - val_loss: 2.8485 - val_accuracy: 0.3028\n",
            "Epoch 3/10\n",
            "1000/1000 [==============================] - 40s 40ms/step - loss: 2.9892 - accuracy: 0.2711 - val_loss: 2.6463 - val_accuracy: 0.3450\n",
            "Epoch 4/10\n",
            "1000/1000 [==============================] - 40s 40ms/step - loss: 2.8171 - accuracy: 0.3027 - val_loss: 2.4472 - val_accuracy: 0.3855\n",
            "Epoch 5/10\n",
            "1000/1000 [==============================] - 40s 40ms/step - loss: 2.6768 - accuracy: 0.3303 - val_loss: 2.3350 - val_accuracy: 0.4048\n",
            "Epoch 6/10\n",
            "1000/1000 [==============================] - 41s 41ms/step - loss: 2.5740 - accuracy: 0.3520 - val_loss: 2.3001 - val_accuracy: 0.4130\n",
            "Epoch 7/10\n",
            "1000/1000 [==============================] - 41s 41ms/step - loss: 2.4746 - accuracy: 0.3719 - val_loss: 2.1975 - val_accuracy: 0.4304\n",
            "Epoch 8/10\n",
            "1000/1000 [==============================] - 40s 40ms/step - loss: 2.3982 - accuracy: 0.3902 - val_loss: 2.1141 - val_accuracy: 0.4566\n",
            "Epoch 9/10\n",
            "1000/1000 [==============================] - 40s 40ms/step - loss: 2.3277 - accuracy: 0.4021 - val_loss: 2.0473 - val_accuracy: 0.4683\n",
            "Epoch 10/10\n",
            "1000/1000 [==============================] - 41s 41ms/step - loss: 2.2640 - accuracy: 0.4166 - val_loss: 1.9772 - val_accuracy: 0.4793\n"
          ]
        }
      ]
    },
    {
      "cell_type": "code",
      "source": [
        "plot_history(vgghistory)"
      ],
      "metadata": {
        "colab": {
          "base_uri": "https://localhost:8080/",
          "height": 590
        },
        "id": "qwdePgvGIhO7",
        "outputId": "e59e378b-6ced-4091-f18c-83c171e5796a"
      },
      "execution_count": 19,
      "outputs": [
        {
          "output_type": "display_data",
          "data": {
            "text/plain": [
              "<Figure size 432x288 with 1 Axes>"
            ],
            "image/png": "[encoded data removed]"
          },
          "metadata": {
            "needs_background": "light"
          }
        },
        {
          "output_type": "display_data",
          "data": {
            "text/plain": [
              "<Figure size 432x288 with 1 Axes>"
            ],
            "image/png": "[encoded data removed]"
          },
          "metadata": {
            "needs_background": "light"
          }
        },
        {
          "output_type": "display_data",
          "data": {
            "text/plain": [
              "<Figure size 432x288 with 0 Axes>"
            ]
          },
          "metadata": {}
        }
      ]
    }
  ]
}